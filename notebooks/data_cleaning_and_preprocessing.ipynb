{
 "cells": [
  {
   "cell_type": "markdown",
   "id": "d6091249-adb7-45d8-89d8-908fa3553a0a",
   "metadata": {},
   "source": [
    "#### Import Required Libraries"
   ]
  },
  {
   "cell_type": "code",
   "execution_count": 1,
   "id": "baa295c8-c236-4f5a-914a-1aa2e5f66ea6",
   "metadata": {},
   "outputs": [],
   "source": [
    "# Analysis\n",
    "import pandas as pd\n",
    "import numpy as np\n",
    "from sklearn.pipeline import Pipeline\n",
    "import joblib\n",
    "\n",
    "# Data Visualization Libraries\n",
    "import matplotlib.pyplot as plt\n",
    "import seaborn as sns\n",
    "plt.style.use(\"ggplot\")\n",
    "import seaborn as sns\n",
    "\n",
    "import warnings\n",
    "warnings.filterwarnings(\"ignore\")"
   ]
  },
  {
   "cell_type": "code",
   "execution_count": 2,
   "id": "b8617527-bd81-4c55-b485-8cb26df9ba24",
   "metadata": {},
   "outputs": [
    {
     "data": {
      "text/html": [
       "<div>\n",
       "<style scoped>\n",
       "    .dataframe tbody tr th:only-of-type {\n",
       "        vertical-align: middle;\n",
       "    }\n",
       "\n",
       "    .dataframe tbody tr th {\n",
       "        vertical-align: top;\n",
       "    }\n",
       "\n",
       "    .dataframe thead th {\n",
       "        text-align: right;\n",
       "    }\n",
       "</style>\n",
       "<table border=\"1\" class=\"dataframe\">\n",
       "  <thead>\n",
       "    <tr style=\"text-align: right;\">\n",
       "      <th></th>\n",
       "      <th>Reviewer</th>\n",
       "      <th>Country</th>\n",
       "      <th>StarRatings</th>\n",
       "      <th>Subject</th>\n",
       "      <th>Review</th>\n",
       "      <th>Date_posted</th>\n",
       "    </tr>\n",
       "  </thead>\n",
       "  <tbody>\n",
       "    <tr>\n",
       "      <th>0</th>\n",
       "      <td>Mike Santarcangelo</td>\n",
       "      <td>US</td>\n",
       "      <td>3</td>\n",
       "      <td>Amazon may be a fine company, but...</td>\n",
       "      <td>Amazon is easy to work with, but they fulfill ...</td>\n",
       "      <td>Tuesday, June 4, 2024</td>\n",
       "    </tr>\n",
       "    <tr>\n",
       "      <th>1</th>\n",
       "      <td>Arthur Riding</td>\n",
       "      <td>GB</td>\n",
       "      <td>5</td>\n",
       "      <td>Great range of products, generally superior qu...</td>\n",
       "      <td>I have been using AliExpress for well over a y...</td>\n",
       "      <td>Tuesday, June 4, 2024</td>\n",
       "    </tr>\n",
       "    <tr>\n",
       "      <th>2</th>\n",
       "      <td>UK shopper Val</td>\n",
       "      <td>GB</td>\n",
       "      <td>5</td>\n",
       "      <td>Good!</td>\n",
       "      <td>A good, customer-centric marketplace. But neve...</td>\n",
       "      <td>Monday, June 3, 2024</td>\n",
       "    </tr>\n",
       "    <tr>\n",
       "      <th>3</th>\n",
       "      <td>Jim Corkery</td>\n",
       "      <td>CA</td>\n",
       "      <td>1</td>\n",
       "      <td>I purchased an Android Tesla style…</td>\n",
       "      <td>I purchased an Android Tesla style radio.\\nAft...</td>\n",
       "      <td>Sunday, June 2, 2024</td>\n",
       "    </tr>\n",
       "    <tr>\n",
       "      <th>4</th>\n",
       "      <td>chris bardin</td>\n",
       "      <td>IE</td>\n",
       "      <td>1</td>\n",
       "      <td>They are an absolute con job dont waste…</td>\n",
       "      <td>They are an absolute con job dont waste your m...</td>\n",
       "      <td>Tuesday, June 4, 2024</td>\n",
       "    </tr>\n",
       "  </tbody>\n",
       "</table>\n",
       "</div>"
      ],
      "text/plain": [
       "             Reviewer Country  StarRatings  \\\n",
       "0  Mike Santarcangelo      US            3   \n",
       "1       Arthur Riding      GB            5   \n",
       "2      UK shopper Val      GB            5   \n",
       "3         Jim Corkery      CA            1   \n",
       "4        chris bardin      IE            1   \n",
       "\n",
       "                                             Subject  \\\n",
       "0               Amazon may be a fine company, but...   \n",
       "1  Great range of products, generally superior qu...   \n",
       "2                                              Good!   \n",
       "3                I purchased an Android Tesla style…   \n",
       "4           They are an absolute con job dont waste…   \n",
       "\n",
       "                                              Review            Date_posted  \n",
       "0  Amazon is easy to work with, but they fulfill ...  Tuesday, June 4, 2024  \n",
       "1  I have been using AliExpress for well over a y...  Tuesday, June 4, 2024  \n",
       "2  A good, customer-centric marketplace. But neve...   Monday, June 3, 2024  \n",
       "3  I purchased an Android Tesla style radio.\\nAft...   Sunday, June 2, 2024  \n",
       "4  They are an absolute con job dont waste your m...  Tuesday, June 4, 2024  "
      ]
     },
     "execution_count": 2,
     "metadata": {},
     "output_type": "execute_result"
    }
   ],
   "source": [
    "# Load the dataset\n",
    "data = pd.read_csv(r\"C:\\Users\\Harrison\\Downloads\\sentiment_analysis_project\\data\\raw_data.csv\")\n",
    "                   \n",
    "data.head()"
   ]
  },
  {
   "cell_type": "markdown",
   "id": "8079eda5-5074-48bb-87aa-d7fb70421e0c",
   "metadata": {},
   "source": [
    "### Data Inspection and Cleaning"
   ]
  },
  {
   "cell_type": "code",
   "execution_count": 3,
   "id": "10ae685e-b7e5-47af-8b6e-cc926cf62aec",
   "metadata": {},
   "outputs": [
    {
     "data": {
      "text/plain": [
       "(12000, 6)"
      ]
     },
     "execution_count": 3,
     "metadata": {},
     "output_type": "execute_result"
    }
   ],
   "source": [
    "data.shape"
   ]
  },
  {
   "cell_type": "markdown",
   "id": "10bfd305-aa21-42e3-9eb6-0b3a38badd0c",
   "metadata": {},
   "source": [
    "The dataset contains 12,000 rows and 6 columns"
   ]
  },
  {
   "cell_type": "code",
   "execution_count": 4,
   "id": "e909e921-f1cc-453f-8f4d-67af7c85735a",
   "metadata": {},
   "outputs": [
    {
     "name": "stdout",
     "output_type": "stream",
     "text": [
      "<class 'pandas.core.frame.DataFrame'>\n",
      "RangeIndex: 12000 entries, 0 to 11999\n",
      "Data columns (total 6 columns):\n",
      " #   Column       Non-Null Count  Dtype \n",
      "---  ------       --------------  ----- \n",
      " 0   Reviewer     11997 non-null  object\n",
      " 1   Country      11997 non-null  object\n",
      " 2   StarRatings  12000 non-null  int64 \n",
      " 3   Subject      12000 non-null  object\n",
      " 4   Review       11161 non-null  object\n",
      " 5   Date_posted  12000 non-null  object\n",
      "dtypes: int64(1), object(5)\n",
      "memory usage: 562.6+ KB\n"
     ]
    }
   ],
   "source": [
    "data.info()"
   ]
  },
  {
   "cell_type": "code",
   "execution_count": 5,
   "id": "25e6e49d-b326-43ba-922d-2ee979d81e19",
   "metadata": {},
   "outputs": [
    {
     "data": {
      "text/plain": [
       "Reviewer       object\n",
       "Country        object\n",
       "StarRatings     int64\n",
       "Subject        object\n",
       "Review         object\n",
       "Date_posted    object\n",
       "dtype: object"
      ]
     },
     "execution_count": 5,
     "metadata": {},
     "output_type": "execute_result"
    }
   ],
   "source": [
    "# Check the data type\n",
    "data.dtypes"
   ]
  },
  {
   "cell_type": "code",
   "execution_count": 6,
   "id": "79dbd2fc-4e92-422e-b2b5-d90c693f9453",
   "metadata": {},
   "outputs": [
    {
     "data": {
      "text/plain": [
       "0"
      ]
     },
     "execution_count": 6,
     "metadata": {},
     "output_type": "execute_result"
    }
   ],
   "source": [
    "# Check for duplicate\n",
    "data.duplicated().sum()"
   ]
  },
  {
   "cell_type": "markdown",
   "id": "3ef0b313-7d30-4929-8736-c50412293756",
   "metadata": {},
   "source": [
    "The dataset has no duplicate"
   ]
  },
  {
   "cell_type": "code",
   "execution_count": 7,
   "id": "106ae5f1-e213-4462-bfb9-ea5e49dec98d",
   "metadata": {},
   "outputs": [
    {
     "data": {
      "text/plain": [
       "Reviewer       11065\n",
       "Country          147\n",
       "StarRatings        5\n",
       "Subject        11177\n",
       "Review         11158\n",
       "Date_posted     1372\n",
       "dtype: int64"
      ]
     },
     "execution_count": 7,
     "metadata": {},
     "output_type": "execute_result"
    }
   ],
   "source": [
    "# Check the number unique values in each features\n",
    "data.nunique()"
   ]
  },
  {
   "cell_type": "markdown",
   "id": "ceed4f43-069c-4cca-9084-3417d3a5a3b3",
   "metadata": {},
   "source": [
    "We can notice that there are 147 unique countries where the reviews came from"
   ]
  },
  {
   "cell_type": "code",
   "execution_count": 8,
   "id": "ce29c8be-af4f-42d2-b29e-39795c1cc669",
   "metadata": {
    "scrolled": true
   },
   "outputs": [
    {
     "data": {
      "text/plain": [
       "Reviewer         3\n",
       "Country          3\n",
       "StarRatings      0\n",
       "Subject          0\n",
       "Review         839\n",
       "Date_posted      0\n",
       "dtype: int64"
      ]
     },
     "execution_count": 8,
     "metadata": {},
     "output_type": "execute_result"
    }
   ],
   "source": [
    "# Check for missing values\n",
    "data.isnull().sum()"
   ]
  },
  {
   "cell_type": "code",
   "execution_count": 9,
   "id": "f0f9fec0-84a2-4418-803f-b5018034a282",
   "metadata": {},
   "outputs": [
    {
     "data": {
      "image/png": "[encoded data removed]",
      "text/plain": [
       "<Figure size 2500x1000 with 2 Axes>"
      ]
     },
     "metadata": {},
     "output_type": "display_data"
    }
   ],
   "source": [
    " # Visualizing the missing data\n",
    "import missingno as msno\n",
    "\n",
    "# Visualize nullity patterns\n",
    "msno.matrix(data)\n",
    "\n",
    "plt.show()"
   ]
  },
  {
   "cell_type": "markdown",
   "id": "0803997b-0596-46b1-8fea-f6a9a09587c7",
   "metadata": {},
   "source": [
    "The dataset contains a small number of missing values in the 'Reviewer' and 'Country' columns and a substantial number in the 'Review' column. Despite this, we have decided to retain all data points, including those with missing information as potential insight could be derived from the columns"
   ]
  },
  {
   "cell_type": "code",
   "execution_count": 10,
   "id": "fe336f6d-ca17-4a90-9589-82b444f6b9b1",
   "metadata": {
    "scrolled": true
   },
   "outputs": [
    {
     "data": {
      "text/plain": [
       "(12000, 6)"
      ]
     },
     "execution_count": 10,
     "metadata": {},
     "output_type": "execute_result"
    }
   ],
   "source": [
    "data.shape"
   ]
  },
  {
   "cell_type": "code",
   "execution_count": 14,
   "id": "bc124dad-a93b-4506-874c-61ed19b9e305",
   "metadata": {
    "scrolled": true
   },
   "outputs": [],
   "source": [
    "# Save the cleaned data\n",
    "\n",
    "data.to_csv('cleaned_data.csv', index=False)"
   ]
  },
  {
   "cell_type": "markdown",
   "id": "c47e236e-08ce-415a-a19e-15c37adadfe8",
   "metadata": {},
   "source": [
    "The final dataset contains 12,000 rows and 6 columns"
   ]
  },
  {
   "cell_type": "markdown",
   "id": "10009847-3b46-4154-b2bc-97d8282ee26b",
   "metadata": {},
   "source": [
    "we will derive a sentiment from the StarRating. we will classify the StarRatings as either positive or negative.\n",
    "\n",
    "Assumptions:\n",
    "- if StarRatings is greater than or equal to 3, we will classify it as 'Positive'\n",
    "- If StarRatings is less than 3, we will classify it as 'Negative'"
   ]
  },
  {
   "cell_type": "code",
   "execution_count": 11,
   "id": "9701aeb2-113e-4949-b94e-014415c8e12a",
   "metadata": {},
   "outputs": [
    {
     "data": {
      "text/html": [
       "<div>\n",
       "<style scoped>\n",
       "    .dataframe tbody tr th:only-of-type {\n",
       "        vertical-align: middle;\n",
       "    }\n",
       "\n",
       "    .dataframe tbody tr th {\n",
       "        vertical-align: top;\n",
       "    }\n",
       "\n",
       "    .dataframe thead th {\n",
       "        text-align: right;\n",
       "    }\n",
       "</style>\n",
       "<table border=\"1\" class=\"dataframe\">\n",
       "  <thead>\n",
       "    <tr style=\"text-align: right;\">\n",
       "      <th></th>\n",
       "      <th>Reviewer</th>\n",
       "      <th>Country</th>\n",
       "      <th>StarRatings</th>\n",
       "      <th>Subject</th>\n",
       "      <th>Review</th>\n",
       "      <th>Date_posted</th>\n",
       "      <th>StarRatings_Sentiment</th>\n",
       "    </tr>\n",
       "  </thead>\n",
       "  <tbody>\n",
       "    <tr>\n",
       "      <th>0</th>\n",
       "      <td>Mike Santarcangelo</td>\n",
       "      <td>US</td>\n",
       "      <td>3</td>\n",
       "      <td>Amazon may be a fine company, but...</td>\n",
       "      <td>Amazon is easy to work with, but they fulfill ...</td>\n",
       "      <td>Tuesday, June 4, 2024</td>\n",
       "      <td>Positive</td>\n",
       "    </tr>\n",
       "    <tr>\n",
       "      <th>1</th>\n",
       "      <td>Arthur Riding</td>\n",
       "      <td>GB</td>\n",
       "      <td>5</td>\n",
       "      <td>Great range of products, generally superior qu...</td>\n",
       "      <td>I have been using AliExpress for well over a y...</td>\n",
       "      <td>Tuesday, June 4, 2024</td>\n",
       "      <td>Positive</td>\n",
       "    </tr>\n",
       "    <tr>\n",
       "      <th>2</th>\n",
       "      <td>UK shopper Val</td>\n",
       "      <td>GB</td>\n",
       "      <td>5</td>\n",
       "      <td>Good!</td>\n",
       "      <td>A good, customer-centric marketplace. But neve...</td>\n",
       "      <td>Monday, June 3, 2024</td>\n",
       "      <td>Positive</td>\n",
       "    </tr>\n",
       "    <tr>\n",
       "      <th>3</th>\n",
       "      <td>Jim Corkery</td>\n",
       "      <td>CA</td>\n",
       "      <td>1</td>\n",
       "      <td>I purchased an Android Tesla style…</td>\n",
       "      <td>I purchased an Android Tesla style radio.\\nAft...</td>\n",
       "      <td>Sunday, June 2, 2024</td>\n",
       "      <td>Negative</td>\n",
       "    </tr>\n",
       "    <tr>\n",
       "      <th>4</th>\n",
       "      <td>chris bardin</td>\n",
       "      <td>IE</td>\n",
       "      <td>1</td>\n",
       "      <td>They are an absolute con job dont waste…</td>\n",
       "      <td>They are an absolute con job dont waste your m...</td>\n",
       "      <td>Tuesday, June 4, 2024</td>\n",
       "      <td>Negative</td>\n",
       "    </tr>\n",
       "  </tbody>\n",
       "</table>\n",
       "</div>"
      ],
      "text/plain": [
       "             Reviewer Country  StarRatings  \\\n",
       "0  Mike Santarcangelo      US            3   \n",
       "1       Arthur Riding      GB            5   \n",
       "2      UK shopper Val      GB            5   \n",
       "3         Jim Corkery      CA            1   \n",
       "4        chris bardin      IE            1   \n",
       "\n",
       "                                             Subject  \\\n",
       "0               Amazon may be a fine company, but...   \n",
       "1  Great range of products, generally superior qu...   \n",
       "2                                              Good!   \n",
       "3                I purchased an Android Tesla style…   \n",
       "4           They are an absolute con job dont waste…   \n",
       "\n",
       "                                              Review            Date_posted  \\\n",
       "0  Amazon is easy to work with, but they fulfill ...  Tuesday, June 4, 2024   \n",
       "1  I have been using AliExpress for well over a y...  Tuesday, June 4, 2024   \n",
       "2  A good, customer-centric marketplace. But neve...   Monday, June 3, 2024   \n",
       "3  I purchased an Android Tesla style radio.\\nAft...   Sunday, June 2, 2024   \n",
       "4  They are an absolute con job dont waste your m...  Tuesday, June 4, 2024   \n",
       "\n",
       "  StarRatings_Sentiment  \n",
       "0              Positive  \n",
       "1              Positive  \n",
       "2              Positive  \n",
       "3              Negative  \n",
       "4              Negative  "
      ]
     },
     "execution_count": 11,
     "metadata": {},
     "output_type": "execute_result"
    }
   ],
   "source": [
    "# Creating a 'StarRatings_Sentiment' column to classify the sentiment of reviews based on the StarRatings\n",
    "\n",
    "# Define the classification function\n",
    "def classify_rating(StarRatings):\n",
    "    if StarRatings >= 3:\n",
    "        return 'Positive'\n",
    "    else:\n",
    "        return 'Negative'\n",
    "\n",
    "# Apply the classification\n",
    "data['StarRatings_Sentiment'] = data['StarRatings'].apply(classify_rating)\n",
    "\n",
    "data.head()"
   ]
  },
  {
   "cell_type": "code",
   "execution_count": 12,
   "id": "748e8603-31bb-40c8-81a0-579bce01a0ca",
   "metadata": {},
   "outputs": [
    {
     "name": "stdout",
     "output_type": "stream",
     "text": [
      "StarRatings_Sentiment\n",
      "Negative    6830\n",
      "Positive    5170\n",
      "Name: count, dtype: int64\n"
     ]
    }
   ],
   "source": [
    "# Sentiment distribution\n",
    "sentiment_counts = data['StarRatings_Sentiment'].value_counts()\n",
    "print(sentiment_counts)"
   ]
  },
  {
   "cell_type": "raw",
   "id": "2ad7ddae-4770-42b7-9175-e5c78deab28b",
   "metadata": {},
   "source": [
    "From our visualization base on the StarRatings categorization, 56.92% of the reviews are negative while 43.08% are positive"
   ]
  },
  {
   "cell_type": "code",
   "execution_count": 21,
   "id": "4953a558-987b-421d-ba0b-aa91f72067bd",
   "metadata": {},
   "outputs": [
    {
     "data": {
      "text/plain": [
       "StarRatings\n",
       "1    6418\n",
       "2     412\n",
       "Name: count, dtype: int64"
      ]
     },
     "execution_count": 21,
     "metadata": {},
     "output_type": "execute_result"
    }
   ],
   "source": [
    "# StarRating Sentiment = Negative\n",
    "data[data['StarRatings_Sentiment'] == 'Negative']['StarRatings'].value_counts()"
   ]
  },
  {
   "cell_type": "markdown",
   "id": "469d6fee-ba97-46f2-8832-b8357bb3ba5f",
   "metadata": {},
   "source": [
    "Based on our StarRatings categorisation, 6,830 reviews are negative"
   ]
  },
  {
   "cell_type": "code",
   "execution_count": 22,
   "id": "361b3cbb-2256-492e-8fa0-461b2c467ef4",
   "metadata": {},
   "outputs": [
    {
     "data": {
      "text/plain": [
       "StarRatings\n",
       "5    4488\n",
       "4     402\n",
       "3     280\n",
       "Name: count, dtype: int64"
      ]
     },
     "execution_count": 22,
     "metadata": {},
     "output_type": "execute_result"
    }
   ],
   "source": [
    "# StarRatings Sentiment = Positive\n",
    "data[data['StarRatings_Sentiment'] == 'Positive']['StarRatings'].value_counts()"
   ]
  },
  {
   "cell_type": "markdown",
   "id": "46a8b26e-04ab-4233-9bb7-f8a8a0b9d806",
   "metadata": {},
   "source": [
    "5,170 reviews are positive based on our categorization"
   ]
  },
  {
   "cell_type": "markdown",
   "id": "59566de0-a3fb-4d06-9694-589caa6bfd77",
   "metadata": {},
   "source": [
    "## Data Preprocessing\n",
    "- Text Cleaning: Remove noise, special characters, and irrelevant information.\n",
    "- Tokenization: Split text into tokens."
   ]
  },
  {
   "cell_type": "code",
   "execution_count": 13,
   "id": "a32beb42-0b72-47fb-80e1-2217a44f9a68",
   "metadata": {},
   "outputs": [
    {
     "data": {
      "text/html": [
       "<div>\n",
       "<style scoped>\n",
       "    .dataframe tbody tr th:only-of-type {\n",
       "        vertical-align: middle;\n",
       "    }\n",
       "\n",
       "    .dataframe tbody tr th {\n",
       "        vertical-align: top;\n",
       "    }\n",
       "\n",
       "    .dataframe thead th {\n",
       "        text-align: right;\n",
       "    }\n",
       "</style>\n",
       "<table border=\"1\" class=\"dataframe\">\n",
       "  <thead>\n",
       "    <tr style=\"text-align: right;\">\n",
       "      <th></th>\n",
       "      <th>Reviewer</th>\n",
       "      <th>Country</th>\n",
       "      <th>StarRatings</th>\n",
       "      <th>Subject</th>\n",
       "      <th>Review</th>\n",
       "      <th>Date_posted</th>\n",
       "      <th>StarRatings_Sentiment</th>\n",
       "    </tr>\n",
       "  </thead>\n",
       "  <tbody>\n",
       "    <tr>\n",
       "      <th>8819</th>\n",
       "      <td>Amalia</td>\n",
       "      <td>MX</td>\n",
       "      <td>2</td>\n",
       "      <td>Avoid if possible, Usually sellers are scammers</td>\n",
       "      <td>While there are some good product deals and se...</td>\n",
       "      <td>Thursday, December 2, 2021</td>\n",
       "      <td>Negative</td>\n",
       "    </tr>\n",
       "    <tr>\n",
       "      <th>4023</th>\n",
       "      <td>joy</td>\n",
       "      <td>CA</td>\n",
       "      <td>1</td>\n",
       "      <td>refund issues</td>\n",
       "      <td>If you ever wish to return something and they ...</td>\n",
       "      <td>Tuesday, August 1, 2023</td>\n",
       "      <td>Negative</td>\n",
       "    </tr>\n",
       "    <tr>\n",
       "      <th>9977</th>\n",
       "      <td>Jean Walton Uptmor</td>\n",
       "      <td>US</td>\n",
       "      <td>1</td>\n",
       "      <td>HORRIBLE CUSTOMER SERVICE! NO RECOURSE UNTIL A...</td>\n",
       "      <td>I placed &amp; paid for a small order on January 1...</td>\n",
       "      <td>Monday, April 19, 2021</td>\n",
       "      <td>Negative</td>\n",
       "    </tr>\n",
       "  </tbody>\n",
       "</table>\n",
       "</div>"
      ],
      "text/plain": [
       "                Reviewer Country  StarRatings  \\\n",
       "8819              Amalia      MX            2   \n",
       "4023                 joy      CA            1   \n",
       "9977  Jean Walton Uptmor      US            1   \n",
       "\n",
       "                                                Subject  \\\n",
       "8819    Avoid if possible, Usually sellers are scammers   \n",
       "4023                                      refund issues   \n",
       "9977  HORRIBLE CUSTOMER SERVICE! NO RECOURSE UNTIL A...   \n",
       "\n",
       "                                                 Review  \\\n",
       "8819  While there are some good product deals and se...   \n",
       "4023  If you ever wish to return something and they ...   \n",
       "9977  I placed & paid for a small order on January 1...   \n",
       "\n",
       "                     Date_posted StarRatings_Sentiment  \n",
       "8819  Thursday, December 2, 2021              Negative  \n",
       "4023     Tuesday, August 1, 2023              Negative  \n",
       "9977      Monday, April 19, 2021              Negative  "
      ]
     },
     "execution_count": 13,
     "metadata": {},
     "output_type": "execute_result"
    }
   ],
   "source": [
    "data.sample(3)"
   ]
  },
  {
   "cell_type": "markdown",
   "id": "539c2080-7f0f-44c5-a8fe-6e60308b8a0a",
   "metadata": {},
   "source": [
    "- Text cleaning and Tokenization"
   ]
  },
  {
   "cell_type": "code",
   "execution_count": 14,
   "id": "0c0f9760-9b2b-4ef1-830c-78bc453aac4e",
   "metadata": {},
   "outputs": [
    {
     "data": {
      "text/html": [
       "<div>\n",
       "<style scoped>\n",
       "    .dataframe tbody tr th:only-of-type {\n",
       "        vertical-align: middle;\n",
       "    }\n",
       "\n",
       "    .dataframe tbody tr th {\n",
       "        vertical-align: top;\n",
       "    }\n",
       "\n",
       "    .dataframe thead th {\n",
       "        text-align: right;\n",
       "    }\n",
       "</style>\n",
       "<table border=\"1\" class=\"dataframe\">\n",
       "  <thead>\n",
       "    <tr style=\"text-align: right;\">\n",
       "      <th></th>\n",
       "      <th>Reviewer</th>\n",
       "      <th>Country</th>\n",
       "      <th>StarRatings</th>\n",
       "      <th>Subject</th>\n",
       "      <th>Review</th>\n",
       "      <th>Date_posted</th>\n",
       "      <th>StarRatings_Sentiment</th>\n",
       "      <th>cleaned_review</th>\n",
       "    </tr>\n",
       "  </thead>\n",
       "  <tbody>\n",
       "    <tr>\n",
       "      <th>0</th>\n",
       "      <td>Mike Santarcangelo</td>\n",
       "      <td>US</td>\n",
       "      <td>3</td>\n",
       "      <td>Amazon may be a fine company, but...</td>\n",
       "      <td>Amazon is easy to work with, but they fulfill ...</td>\n",
       "      <td>Tuesday, June 4, 2024</td>\n",
       "      <td>Positive</td>\n",
       "      <td>[amazon, easy, work, fulfill, order, via, rd, ...</td>\n",
       "    </tr>\n",
       "    <tr>\n",
       "      <th>1</th>\n",
       "      <td>Arthur Riding</td>\n",
       "      <td>GB</td>\n",
       "      <td>5</td>\n",
       "      <td>Great range of products, generally superior qu...</td>\n",
       "      <td>I have been using AliExpress for well over a y...</td>\n",
       "      <td>Tuesday, June 4, 2024</td>\n",
       "      <td>Positive</td>\n",
       "      <td>[using, aliexpress, well, year, consistently, ...</td>\n",
       "    </tr>\n",
       "    <tr>\n",
       "      <th>2</th>\n",
       "      <td>UK shopper Val</td>\n",
       "      <td>GB</td>\n",
       "      <td>5</td>\n",
       "      <td>Good!</td>\n",
       "      <td>A good, customer-centric marketplace. But neve...</td>\n",
       "      <td>Monday, June 3, 2024</td>\n",
       "      <td>Positive</td>\n",
       "      <td>[good, customercentric, marketplace, neverthel...</td>\n",
       "    </tr>\n",
       "  </tbody>\n",
       "</table>\n",
       "</div>"
      ],
      "text/plain": [
       "             Reviewer Country  StarRatings  \\\n",
       "0  Mike Santarcangelo      US            3   \n",
       "1       Arthur Riding      GB            5   \n",
       "2      UK shopper Val      GB            5   \n",
       "\n",
       "                                             Subject  \\\n",
       "0               Amazon may be a fine company, but...   \n",
       "1  Great range of products, generally superior qu...   \n",
       "2                                              Good!   \n",
       "\n",
       "                                              Review            Date_posted  \\\n",
       "0  Amazon is easy to work with, but they fulfill ...  Tuesday, June 4, 2024   \n",
       "1  I have been using AliExpress for well over a y...  Tuesday, June 4, 2024   \n",
       "2  A good, customer-centric marketplace. But neve...   Monday, June 3, 2024   \n",
       "\n",
       "  StarRatings_Sentiment                                     cleaned_review  \n",
       "0              Positive  [amazon, easy, work, fulfill, order, via, rd, ...  \n",
       "1              Positive  [using, aliexpress, well, year, consistently, ...  \n",
       "2              Positive  [good, customercentric, marketplace, neverthel...  "
      ]
     },
     "execution_count": 14,
     "metadata": {},
     "output_type": "execute_result"
    }
   ],
   "source": [
    "import re\n",
    "import pandas as pd\n",
    "from nltk.tokenize import word_tokenize\n",
    "from nltk.corpus import stopwords\n",
    "from nltk.stem import WordNetLemmatizer\n",
    "\n",
    "# Text cleaning functions\n",
    "def remove_html_tags(text):\n",
    "    clean = re.compile('<.*?>')\n",
    "    return re.sub(clean, '', text)\n",
    "\n",
    "def to_lowercase(text):\n",
    "    return text.lower()\n",
    "\n",
    "def remove_special_characters(text):\n",
    "    return re.sub(r'[^a-zA-Z\\s]', '', text)\n",
    "\n",
    "def remove_numbers(text):\n",
    "    return re.sub(r'\\d+', '', text)\n",
    "\n",
    "def remove_whitespace(text):\n",
    "    return ' '.join(text.split())\n",
    "\n",
    "# Tokenization function\n",
    "def tokenize_text(text):\n",
    "    return word_tokenize(text)\n",
    "\n",
    "# Remove stopwords\n",
    "def remove_stopwords(tokens):\n",
    "    stop_words = set(stopwords.words('english'))\n",
    "    return [word for word in tokens if word not in stop_words]\n",
    "\n",
    "# Lemmatization\n",
    "def lemmatize_words(tokens):\n",
    "    lemmatizer = WordNetLemmatizer()\n",
    "    return [lemmatizer.lemmatize(word) for word in tokens]\n",
    "\n",
    "# Comprehensive preprocessing function\n",
    "def preprocess_text(text):\n",
    "    if not isinstance(text, str):\n",
    "        return []\n",
    "    text = remove_html_tags(text)\n",
    "    text = to_lowercase(text)\n",
    "    text = remove_special_characters(text)\n",
    "    text = remove_numbers(text)\n",
    "    text = remove_whitespace(text)\n",
    "    tokens = tokenize_text(text)\n",
    "    tokens = remove_stopwords(tokens)\n",
    "    tokens = lemmatize_words(tokens)\n",
    "    return tokens\n",
    "\n",
    "# Apply preprocessing to the 'Review' column\n",
    "data['cleaned_review'] = data['Review'].apply(preprocess_text)\n",
    "\n",
    "data.head(3)"
   ]
  },
  {
   "cell_type": "markdown",
   "id": "a330fdc4-739c-43a9-8dfe-db345ae5ae2f",
   "metadata": {},
   "source": [
    "- Removing Noise\n",
    "\n",
    "Rarely used words, often referred to as low-frequency words, can sometimes be noise in the data and may not contribute significantly to the sentiment analysis. Removing these words can help simplify the model and potentially improve its performance."
   ]
  },
  {
   "cell_type": "code",
   "execution_count": 16,
   "id": "4c1830a0-50cc-4530-9717-beaf85b25989",
   "metadata": {},
   "outputs": [],
   "source": [
    "# Combine tokens back into strings for each review\n",
    "data['cleaned_review'] = data['cleaned_review'].apply(lambda tokens: ' '.join(tokens))"
   ]
  },
  {
   "cell_type": "code",
   "execution_count": 17,
   "id": "c7ceb16a-a00c-4d9a-af98-3226d2eaf5d2",
   "metadata": {},
   "outputs": [
    {
     "data": {
      "text/plain": [
       "aliexpress      8406\n",
       "item            6535\n",
       "seller          6413\n",
       "refund          4935\n",
       "order           4615\n",
       "                ... \n",
       "alijoke            1\n",
       "fraudstersmy       1\n",
       "arrivedalis        1\n",
       "exemplory          1\n",
       "favoring           1\n",
       "Name: count, Length: 19855, dtype: int64"
      ]
     },
     "execution_count": 17,
     "metadata": {},
     "output_type": "execute_result"
    }
   ],
   "source": [
    "# Eliminating rarely used words, often referred to as low-frequency words\n",
    "freq_words = pd.Series(\" \".join(data['cleaned_review']).split()).value_counts()\n",
    "\n",
    "freq_words"
   ]
  },
  {
   "cell_type": "code",
   "execution_count": 18,
   "id": "076aa034-a045-45fe-b3f2-aa0addde48f8",
   "metadata": {},
   "outputs": [],
   "source": [
    "# Dropping words that appear once in the review\n",
    "drops = freq_words[freq_words <= 1]\n",
    "data['cleaned_review'] = data['cleaned_review'].apply(lambda x: \" \".join(x for x in x.split() if x not in drops))"
   ]
  },
  {
   "cell_type": "code",
   "execution_count": 19,
   "id": "d7a3149f-6a29-40bb-8f50-e5470ec396da",
   "metadata": {},
   "outputs": [
    {
     "data": {
      "text/plain": [
       "aliexpress     8406\n",
       "item           6535\n",
       "seller         6413\n",
       "refund         4935\n",
       "order          4615\n",
       "               ... \n",
       "insensitive       2\n",
       "accessed          2\n",
       "upped             2\n",
       "naira             2\n",
       "exsg              2\n",
       "Name: count, Length: 8829, dtype: int64"
      ]
     },
     "execution_count": 19,
     "metadata": {},
     "output_type": "execute_result"
    }
   ],
   "source": [
    "freq_words_1 = pd.Series(' '.join(data['cleaned_review']).split()).value_counts()\n",
    "\n",
    "freq_words_1"
   ]
  },
  {
   "cell_type": "code",
   "execution_count": 20,
   "id": "e5e8c3cb-4f8c-4bc7-b33a-08842660199a",
   "metadata": {},
   "outputs": [
    {
     "data": {
      "text/plain": [
       "11000    ive purchased lot company use reasonable thing...\n",
       "11001    good place buy stuff far quite reliable really...\n",
       "11002                    best shop world buy need recomend\n",
       "11003    help product work tried contact seller help tr...\n",
       "11004    year worst used kind good refunded money got d...\n",
       "                               ...                        \n",
       "11995                                  im happy come thank\n",
       "11996                                    excellent quality\n",
       "11997    ordered item aliexpress two seller cancelled s...\n",
       "11998    great platform business vendor would never abl...\n",
       "11999    satisfied aliexpress recently however changed ...\n",
       "Name: cleaned_review, Length: 1000, dtype: object"
      ]
     },
     "execution_count": 20,
     "metadata": {},
     "output_type": "execute_result"
    }
   ],
   "source": [
    "# Viewing the reviews\n",
    "data['cleaned_review'].tail(1000)"
   ]
  },
  {
   "cell_type": "markdown",
   "id": "9875bf52-a174-4315-ae35-2ab189f4f246",
   "metadata": {},
   "source": [
    "### Feature Engineering:\n",
    "- TF-IDF: Transform text data into TF-IDF matrices."
   ]
  },
  {
   "cell_type": "code",
   "execution_count": 32,
   "id": "6727ad36-ff5b-4f73-a874-203f6ab32ed6",
   "metadata": {},
   "outputs": [
    {
     "data": {
      "text/html": [
       "<div>\n",
       "<style scoped>\n",
       "    .dataframe tbody tr th:only-of-type {\n",
       "        vertical-align: middle;\n",
       "    }\n",
       "\n",
       "    .dataframe tbody tr th {\n",
       "        vertical-align: top;\n",
       "    }\n",
       "\n",
       "    .dataframe thead th {\n",
       "        text-align: right;\n",
       "    }\n",
       "</style>\n",
       "<table border=\"1\" class=\"dataframe\">\n",
       "  <thead>\n",
       "    <tr style=\"text-align: right;\">\n",
       "      <th></th>\n",
       "      <th>Reviewer</th>\n",
       "      <th>Country</th>\n",
       "      <th>StarRatings</th>\n",
       "      <th>Subject</th>\n",
       "      <th>Review</th>\n",
       "      <th>Date_posted</th>\n",
       "      <th>StarRatings_Sentiment</th>\n",
       "      <th>cleaned_review</th>\n",
       "    </tr>\n",
       "  </thead>\n",
       "  <tbody>\n",
       "    <tr>\n",
       "      <th>0</th>\n",
       "      <td>Mike Santarcangelo</td>\n",
       "      <td>US</td>\n",
       "      <td>3</td>\n",
       "      <td>Amazon may be a fine company, but...</td>\n",
       "      <td>Amazon is easy to work with, but they fulfill ...</td>\n",
       "      <td>Tuesday, June 4, 2024</td>\n",
       "      <td>Positive</td>\n",
       "      <td>amazon easy work fulfill order via rd party co...</td>\n",
       "    </tr>\n",
       "    <tr>\n",
       "      <th>1</th>\n",
       "      <td>Arthur Riding</td>\n",
       "      <td>GB</td>\n",
       "      <td>5</td>\n",
       "      <td>Great range of products, generally superior qu...</td>\n",
       "      <td>I have been using AliExpress for well over a y...</td>\n",
       "      <td>Tuesday, June 4, 2024</td>\n",
       "      <td>Positive</td>\n",
       "      <td>using aliexpress well year consistently impres...</td>\n",
       "    </tr>\n",
       "  </tbody>\n",
       "</table>\n",
       "</div>"
      ],
      "text/plain": [
       "             Reviewer Country  StarRatings  \\\n",
       "0  Mike Santarcangelo      US            3   \n",
       "1       Arthur Riding      GB            5   \n",
       "\n",
       "                                             Subject  \\\n",
       "0               Amazon may be a fine company, but...   \n",
       "1  Great range of products, generally superior qu...   \n",
       "\n",
       "                                              Review            Date_posted  \\\n",
       "0  Amazon is easy to work with, but they fulfill ...  Tuesday, June 4, 2024   \n",
       "1  I have been using AliExpress for well over a y...  Tuesday, June 4, 2024   \n",
       "\n",
       "  StarRatings_Sentiment                                     cleaned_review  \n",
       "0              Positive  amazon easy work fulfill order via rd party co...  \n",
       "1              Positive  using aliexpress well year consistently impres...  "
      ]
     },
     "execution_count": 32,
     "metadata": {},
     "output_type": "execute_result"
    }
   ],
   "source": [
    "data.head(2)"
   ]
  },
  {
   "cell_type": "code",
   "execution_count": 22,
   "id": "da99db44-48fb-48e0-9f3e-b907824a7568",
   "metadata": {},
   "outputs": [
    {
     "data": {
      "text/plain": [
       "array([[0., 0., 0., ..., 0., 0., 0.],\n",
       "       [0., 0., 0., ..., 0., 0., 0.],\n",
       "       [0., 0., 0., ..., 0., 0., 0.],\n",
       "       ...,\n",
       "       [0., 0., 0., ..., 0., 0., 0.],\n",
       "       [0., 0., 0., ..., 0., 0., 0.],\n",
       "       [0., 0., 0., ..., 0., 0., 0.]])"
      ]
     },
     "execution_count": 22,
     "metadata": {},
     "output_type": "execute_result"
    }
   ],
   "source": [
    "from sklearn.feature_extraction.text import TfidfVectorizer\n",
    "# #Instantiate TF-IDF\n",
    "tfidf_vectorizer = TfidfVectorizer()\n",
    "x_tfidf = tfidf_vectorizer.fit_transform(data['cleaned_review'])\n",
    "\n",
    "x_tfidf.toarray()"
   ]
  },
  {
   "cell_type": "code",
   "execution_count": 70,
   "id": "a793e0c7-57cf-4347-abbe-f73992c7eebd",
   "metadata": {},
   "outputs": [
    {
     "name": "stdout",
     "output_type": "stream",
     "text": [
      "TF-IDF Vectorizer saved successfully!\n"
     ]
    }
   ],
   "source": [
    "# Save the fitted vectorizer using joblib\n",
    "joblib.dump(tfidf_vectorizer, 'tfidf_vectorizer.joblib')\n",
    "\n",
    "print(\"TF-IDF Vectorizer saved successfully!\")"
   ]
  },
  {
   "cell_type": "code",
   "execution_count": 23,
   "id": "33dac7f8-1e15-4221-885f-e68e4720db4e",
   "metadata": {},
   "outputs": [
    {
     "name": "stdout",
     "output_type": "stream",
     "text": [
      "TF-IDF Vectorizer saved successfully!\n"
     ]
    }
   ],
   "source": [
    "# Save the fitted vectorizer using joblib\n",
    "joblib.dump(tfidf_vectorizer, 'tfidf_vectorizer.joblib')\n",
    "\n",
    "print(\"TF-IDF Vectorizer saved successfully!\")"
   ]
  },
  {
   "cell_type": "markdown",
   "id": "04538fcb-2c9a-4a11-9274-73c6f259f05c",
   "metadata": {},
   "source": [
    "- Define the Text Preprocessing Functions and Class"
   ]
  },
  {
   "cell_type": "code",
   "execution_count": 24,
   "id": "207849a3-7f71-4895-942b-c7931f5746d5",
   "metadata": {},
   "outputs": [],
   "source": [
    "\n",
    "from sklearn.base import BaseEstimator, TransformerMixin\n",
    "from sklearn.pipeline import Pipeline\n",
    "\n",
    "# Define text preprocessing functions\n",
    "def remove_html_tags(text):\n",
    "    clean = re.compile('<.*?>')\n",
    "    return re.sub(clean, '', text)\n",
    "\n",
    "def to_lowercase(text):\n",
    "    return text.lower()\n",
    "\n",
    "def remove_special_characters(text):\n",
    "    return re.sub(r'[^a-zA-Z\\s]', '', text)\n",
    "\n",
    "def remove_numbers(text):\n",
    "    return re.sub(r'\\d+', '', text)\n",
    "\n",
    "def remove_whitespace(text):\n",
    "    return ' '.join(text.split())\n",
    "\n",
    "def tokenize_text(text):\n",
    "    return word_tokenize(text)\n",
    "\n",
    "def remove_stopwords(tokens):\n",
    "    stop_words = set(stopwords.words('english'))\n",
    "    return [word for word in tokens if word not in stop_words]\n",
    "\n",
    "def lemmatize_words(tokens):\n",
    "    lemmatizer = WordNetLemmatizer()\n",
    "    return [lemmatizer.lemmatize(word) for word in tokens]\n",
    "\n",
    "def preprocess_text(text):\n",
    "    if not isinstance(text, str):\n",
    "        return \"\"\n",
    "    text = remove_html_tags(text)\n",
    "    text = to_lowercase(text)\n",
    "    text = remove_special_characters(text)\n",
    "    text = remove_numbers(text)\n",
    "    text = remove_whitespace(text)\n",
    "    tokens = tokenize_text(text)\n",
    "    tokens = remove_stopwords(tokens)\n",
    "    tokens = lemmatize_words(tokens)\n",
    "    return ' '.join(tokens)\n",
    "\n",
    "class TextPreprocessor(BaseEstimator, TransformerMixin):\n",
    "    def fit(self, X, y=None):\n",
    "        return self\n",
    "    \n",
    "    def transform(self, X, y=None):\n",
    "        return [preprocess_text(text) for text in X]\n",
    "        "
   ]
  },
  {
   "cell_type": "code",
   "execution_count": 25,
   "id": "5d964d56-1f96-4fdb-9d0d-fc11198351e8",
   "metadata": {},
   "outputs": [
    {
     "data": {
      "text/plain": [
       "['text_preprocessor.joblib']"
      ]
     },
     "execution_count": 25,
     "metadata": {},
     "output_type": "execute_result"
    }
   ],
   "source": [
    "# Initialize the TextPreprocessor\n",
    "text_preprocessor = TextPreprocessor()\n",
    "\n",
    "# Save the TextPreprocessor\n",
    "joblib_file = \"text_preprocessor.joblib\"\n",
    "joblib.dump(text_preprocessor, joblib_file)"
   ]
  }
 ],
 "metadata": {
  "kernelspec": {
   "display_name": "Python 3 (ipykernel)",
   "language": "python",
   "name": "python3"
  },
  "language_info": {
   "codemirror_mode": {
    "name": "ipython",
    "version": 3
   },
   "file_extension": ".py",
   "mimetype": "text/x-python",
   "name": "python",
   "nbconvert_exporter": "python",
   "pygments_lexer": "ipython3",
   "version": "3.11.7"
  }
 },
 "nbformat": 4,
 "nbformat_minor": 5
}
